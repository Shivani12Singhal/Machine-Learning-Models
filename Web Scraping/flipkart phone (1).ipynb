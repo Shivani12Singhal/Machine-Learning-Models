{
 "cells": [
  {
   "cell_type": "code",
   "execution_count": 38,
   "metadata": {},
   "outputs": [],
   "source": [
    "\n",
    "from bs4 import BeautifulSoup\n",
    "import pandas as pd\n",
    "import requests\n",
    "headers_std = {\n",
    "'User-Agent': 'Mozilla/5.0 (Windows NT 6.1; WOW64) AppleWebKit/537.36 (KHTML, like Gecko) Chrome/46.0.2490.80 Safari/537.36',\n",
    "'Content-Type': 'text/html',\n",
    "}\n",
    "\n",
    "URL = (\"https://www.flipkart.com/search?q=iphones&otracker=search&otracker1=search&marketplace=FLIPKART&as-show=on&as=off\")\n",
    "html = requests.get(URL,headers=headers_std).text\n",
    "\n",
    "soup = BeautifulSoup(html, 'lxml')\n"
   ]
  },
  {
   "cell_type": "code",
   "execution_count": 39,
   "metadata": {},
   "outputs": [],
   "source": [
    "products=[]\n",
    "prices=[] \n",
    "\n"
   ]
  },
  {
   "cell_type": "code",
   "execution_count": 40,
   "metadata": {},
   "outputs": [],
   "source": [
    "\n",
    "for a in soup.findAll('div',{'class':'_3O0U0u'}):\n",
    "    name=a.find('div',{'class':'_3wU53n'})\n",
    "    products.append(name.text)\n",
    "    price=a.find('div',{'class':'_1vC4OE _2rQ-NK'})\n",
    "    prices.append(price.text)\n",
    "    \n",
    "   "
   ]
  },
  {
   "cell_type": "code",
   "execution_count": 41,
   "metadata": {},
   "outputs": [
    {
     "data": {
      "text/html": [
       "<div>\n",
       "<style scoped>\n",
       "    .dataframe tbody tr th:only-of-type {\n",
       "        vertical-align: middle;\n",
       "    }\n",
       "\n",
       "    .dataframe tbody tr th {\n",
       "        vertical-align: top;\n",
       "    }\n",
       "\n",
       "    .dataframe thead th {\n",
       "        text-align: right;\n",
       "    }\n",
       "</style>\n",
       "<table border=\"1\" class=\"dataframe\">\n",
       "  <thead>\n",
       "    <tr style=\"text-align: right;\">\n",
       "      <th></th>\n",
       "      <th>name</th>\n",
       "      <th>Price</th>\n",
       "    </tr>\n",
       "  </thead>\n",
       "  <tbody>\n",
       "    <tr>\n",
       "      <th>0</th>\n",
       "      <td>Apple iPhone SE (Black, 64 GB)</td>\n",
       "      <td>₹42,500</td>\n",
       "    </tr>\n",
       "    <tr>\n",
       "      <th>1</th>\n",
       "      <td>Apple iPhone SE (White, 64 GB)</td>\n",
       "      <td>₹42,500</td>\n",
       "    </tr>\n",
       "    <tr>\n",
       "      <th>2</th>\n",
       "      <td>Apple iPhone SE (Red, 64 GB)</td>\n",
       "      <td>₹42,500</td>\n",
       "    </tr>\n",
       "    <tr>\n",
       "      <th>3</th>\n",
       "      <td>Apple iPhone 11 (Black, 64 GB)</td>\n",
       "      <td>₹68,300</td>\n",
       "    </tr>\n",
       "    <tr>\n",
       "      <th>4</th>\n",
       "      <td>Apple iPhone 11 (White, 64 GB)</td>\n",
       "      <td>₹68,300</td>\n",
       "    </tr>\n",
       "    <tr>\n",
       "      <th>5</th>\n",
       "      <td>Apple iPhone 7 (Black, 32 GB)</td>\n",
       "      <td>₹29,499</td>\n",
       "    </tr>\n",
       "    <tr>\n",
       "      <th>6</th>\n",
       "      <td>Apple iPhone 11 (Green, 128 GB)</td>\n",
       "      <td>₹73,600</td>\n",
       "    </tr>\n",
       "    <tr>\n",
       "      <th>7</th>\n",
       "      <td>Apple iPhone 11 (Black, 128 GB)</td>\n",
       "      <td>₹73,600</td>\n",
       "    </tr>\n",
       "    <tr>\n",
       "      <th>8</th>\n",
       "      <td>Apple iPhone XR (Black, 64 GB)</td>\n",
       "      <td>₹52,500</td>\n",
       "    </tr>\n",
       "    <tr>\n",
       "      <th>9</th>\n",
       "      <td>Apple iPhone 11 (White, 128 GB)</td>\n",
       "      <td>₹73,600</td>\n",
       "    </tr>\n",
       "  </tbody>\n",
       "</table>\n",
       "</div>"
      ],
      "text/plain": [
       "                              name    Price\n",
       "0   Apple iPhone SE (Black, 64 GB)  ₹42,500\n",
       "1   Apple iPhone SE (White, 64 GB)  ₹42,500\n",
       "2     Apple iPhone SE (Red, 64 GB)  ₹42,500\n",
       "3   Apple iPhone 11 (Black, 64 GB)  ₹68,300\n",
       "4   Apple iPhone 11 (White, 64 GB)  ₹68,300\n",
       "5    Apple iPhone 7 (Black, 32 GB)  ₹29,499\n",
       "6  Apple iPhone 11 (Green, 128 GB)  ₹73,600\n",
       "7  Apple iPhone 11 (Black, 128 GB)  ₹73,600\n",
       "8   Apple iPhone XR (Black, 64 GB)  ₹52,500\n",
       "9  Apple iPhone 11 (White, 128 GB)  ₹73,600"
      ]
     },
     "execution_count": 41,
     "metadata": {},
     "output_type": "execute_result"
    }
   ],
   "source": [
    "df = pd.DataFrame({'name':products,'Price':prices}) \n",
    "df.to_csv(r'C:\\Users\\dell\\Desktop\\flipkartphone.csv', index=False, encoding='utf-8')\n",
    "df.head(10)"
   ]
  },
  {
   "cell_type": "code",
   "execution_count": null,
   "metadata": {},
   "outputs": [],
   "source": [
    "\n"
   ]
  }
 ],
 "metadata": {
  "kernelspec": {
   "display_name": "Python 3",
   "language": "python",
   "name": "python3"
  },
  "language_info": {
   "codemirror_mode": {
    "name": "ipython",
    "version": 3
   },
   "file_extension": ".py",
   "mimetype": "text/x-python",
   "name": "python",
   "nbconvert_exporter": "python",
   "pygments_lexer": "ipython3",
   "version": "3.7.6"
  }
 },
 "nbformat": 4,
 "nbformat_minor": 4
}
